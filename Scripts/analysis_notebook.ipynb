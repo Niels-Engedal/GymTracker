{
 "cells": [
  {
   "cell_type": "markdown",
   "metadata": {},
   "source": [
    "#### Imports"
   ]
  },
  {
   "cell_type": "code",
   "execution_count": 1,
   "metadata": {},
   "outputs": [
    {
     "name": "stdout",
     "output_type": "stream",
     "text": [
      "Importing the dtw module. When using in academic works please cite:\n",
      "  T. Giorgino. Computing and Visualizing Dynamic Time Warping Alignments in R: The dtw Package.\n",
      "  J. Stat. Soft., doi:10.18637/jss.v031.i07.\n",
      "\n"
     ]
    }
   ],
   "source": [
    "import pandas as pd\n",
    "import matplotlib.pyplot as plt\n",
    "import numpy as np\n",
    "import os\n",
    "import re\n",
    "from dtw import dtw # dynamic timewarping from dtw-python package\n",
    "\n",
    "from scipy.interpolate import interp1d # for time interpolation\n",
    "\n",
    "from Sports2D import Sports2D\n",
    "\n",
    "# importing custom plotting functions\n",
    "from plotting_functions import plot_joint_angle, plot_all_joints, plot_hip_trajectory\n",
    "\n",
    "from utilities import list_filepaths, load_multiple_files, compare_joint_angles, compare_aggregated_joint_angles"
   ]
  },
  {
   "cell_type": "markdown",
   "metadata": {},
   "source": [
    "#### Analysing the video's"
   ]
  },
  {
   "cell_type": "code",
   "execution_count": 2,
   "metadata": {},
   "outputs": [],
   "source": [
    "# Set this to true if you need to re-analyse the videos :)\n",
    "run_sports2d_analysis = False"
   ]
  },
  {
   "cell_type": "code",
   "execution_count": 3,
   "metadata": {},
   "outputs": [],
   "source": [
    "import os\n",
    "from Sports2D import Sports2D\n",
    "\n",
    "# Define paths relative to the current script/notebook directory\n",
    "script_dir = os.getcwd()\n",
    "\n",
    "video_dir = os.path.normpath(os.path.join(script_dir, \"../Videos to Analyze/Backflip\")) # switch to /Start Salto\n",
    "config_path = os.path.normpath(os.path.join(script_dir, \"../Configs/backflip_config.toml\")) # still need to manually move analyzed videos and data to their respective folders (or change it in config)\n",
    "data_dir = os.path.normpath(os.path.join(script_dir, \"../Analyzed Data\"))\n",
    "\n",
    "# Specific move directories\n",
    "st_salto_data_dir = os.path.normpath(os.path.join(data_dir, \"../Analyzed Data/Start Salto\"))\n",
    "backflip_data_dir = os.path.normpath(os.path.join(data_dir, \"../Analyzed Data/Backflip\"))\n",
    "\n",
    "\n",
    "# Get a list of all video files in the directory\n",
    "video_files = list_filepaths(video_dir, [\".mp4\", \".mov\"])\n",
    "\n",
    "# Load the configuration file\n",
    "config = Sports2D.read_config_file(config_path)\n"
   ]
  },
  {
   "cell_type": "code",
   "execution_count": 4,
   "metadata": {},
   "outputs": [],
   "source": [
    "# Update the video input in the config and process each video\n",
    "\n",
    "if run_sports2d_analysis == True:\n",
    "    for video_file in video_files:\n",
    "        try:\n",
    "            config['project']['video_input'] = [video_file]\n",
    "            Sports2D.process(config)\n",
    "        except Exception as e:\n",
    "            print(f\"Error processing video {video_file}: {e}\")"
   ]
  },
  {
   "cell_type": "markdown",
   "metadata": {},
   "source": [
    "#### Loading Data"
   ]
  },
  {
   "cell_type": "code",
   "execution_count": 5,
   "metadata": {},
   "outputs": [
    {
     "name": "stdout",
     "output_type": "stream",
     "text": [
      "For filepath: /Users/niels/Desktop/University/Third Semester/Perception and Action/Exam/Gymnastics Motion Tracking/Code for Gym Tracking/Analyzed Data/Backflip/id1_2_baseline_Sports2D/id1_2_baseline_Sports2D_px_person00.trc, Match status: <re.Match object; span=(161, 205), match='Sports2D/id1_2_baseline_Sports2D_px_person00'>\n",
      "For filepath: /Users/niels/Desktop/University/Third Semester/Perception and Action/Exam/Gymnastics Motion Tracking/Code for Gym Tracking/Analyzed Data/Backflip/id1_3_pettlep_Sports2D/id1_3_pettlep_Sports2D_px_person00.trc, Match status: <re.Match object; span=(160, 203), match='Sports2D/id1_3_pettlep_Sports2D_px_person00'>\n",
      "For filepath: /Users/niels/Desktop/University/Third Semester/Perception and Action/Exam/Gymnastics Motion Tracking/Code for Gym Tracking/Analyzed Data/Backflip/id1_1_baseline_Sports2D/id1_1_baseline_Sports2D_px_person00.trc, Match status: <re.Match object; span=(161, 205), match='Sports2D/id1_1_baseline_Sports2D_px_person00'>\n",
      "For filepath: /Users/niels/Desktop/University/Third Semester/Perception and Action/Exam/Gymnastics Motion Tracking/Code for Gym Tracking/Analyzed Data/Backflip/id2_1_baseline_Sports2D/id2_1_baseline_Sports2D_px_person00.trc, Match status: <re.Match object; span=(161, 205), match='Sports2D/id2_1_baseline_Sports2D_px_person00'>\n",
      "For filepath: /Users/niels/Desktop/University/Third Semester/Perception and Action/Exam/Gymnastics Motion Tracking/Code for Gym Tracking/Analyzed Data/Backflip/id2_2_pure_Sports2D/id2_2_pure_Sports2D_px_person00.trc, Match status: <re.Match object; span=(157, 197), match='Sports2D/id2_2_pure_Sports2D_px_person00'>\n",
      "For filepath: /Users/niels/Desktop/University/Third Semester/Perception and Action/Exam/Gymnastics Motion Tracking/Code for Gym Tracking/Analyzed Data/Backflip/id1_2_baseline_Sports2D/id1_2_baseline_Sports2D_angles_person00.mot, Match status: <re.Match object; span=(161, 209), match='Sports2D/id1_2_baseline_Sports2D_angles_person00'>\n",
      "For filepath: /Users/niels/Desktop/University/Third Semester/Perception and Action/Exam/Gymnastics Motion Tracking/Code for Gym Tracking/Analyzed Data/Backflip/id1_3_pettlep_Sports2D/id1_3_pettlep_Sports2D_angles_person00.mot, Match status: <re.Match object; span=(160, 207), match='Sports2D/id1_3_pettlep_Sports2D_angles_person00'>\n",
      "For filepath: /Users/niels/Desktop/University/Third Semester/Perception and Action/Exam/Gymnastics Motion Tracking/Code for Gym Tracking/Analyzed Data/Backflip/id1_1_baseline_Sports2D/id1_1_baseline_Sports2D_angles_person00.mot, Match status: <re.Match object; span=(161, 209), match='Sports2D/id1_1_baseline_Sports2D_angles_person00'>\n",
      "For filepath: /Users/niels/Desktop/University/Third Semester/Perception and Action/Exam/Gymnastics Motion Tracking/Code for Gym Tracking/Analyzed Data/Backflip/id2_1_baseline_Sports2D/id2_1_baseline_Sports2D_angles_person00.mot, Match status: <re.Match object; span=(161, 209), match='Sports2D/id2_1_baseline_Sports2D_angles_person00'>\n",
      "For filepath: /Users/niels/Desktop/University/Third Semester/Perception and Action/Exam/Gymnastics Motion Tracking/Code for Gym Tracking/Analyzed Data/Backflip/id2_2_pure_Sports2D/id2_2_pure_Sports2D_angles_person00.mot, Match status: <re.Match object; span=(157, 201), match='Sports2D/id2_2_pure_Sports2D_angles_person00'>\n"
     ]
    }
   ],
   "source": [
    "# get file paths contained in analyzed video data\n",
    "backflip_trc_file_paths = list_filepaths(backflip_data_dir, '.trc')\n",
    "backflip_mot_file_paths = list_filepaths(backflip_data_dir, '.mot')\n",
    "\n",
    "#print(backflip_trc_file_paths)\n",
    "\n",
    "# create combined dataframes of them\n",
    "backflip_trc_combined_df = load_multiple_files(backflip_trc_file_paths, file_type='trc')\n",
    "backflip_mot_combined_df = load_multiple_files(backflip_mot_file_paths, file_type='mot')"
   ]
  },
  {
   "cell_type": "markdown",
   "metadata": {},
   "source": [
    "#### Combine into 1 dataframe"
   ]
  },
  {
   "cell_type": "code",
   "execution_count": 8,
   "metadata": {},
   "outputs": [
    {
     "name": "stdout",
     "output_type": "stream",
     "text": [
      "Shape of merged DataFrame: (1210, 95)\n",
      "Columns in merged DataFrame: ['Frame#', 'time', 'Hip_X', 'Hip_Y', 'Hip_Z', 'RHip_X', 'RHip_Y', 'RHip_Z', 'RKnee_X', 'RKnee_Y', 'RKnee_Z', 'RAnkle_X', 'RAnkle_Y', 'RAnkle_Z', 'RBigToe_X', 'RBigToe_Y', 'RBigToe_Z', 'RSmallToe_X', 'RSmallToe_Y', 'RSmallToe_Z', 'RHeel_X', 'RHeel_Y', 'RHeel_Z', 'LHip_X', 'LHip_Y', 'LHip_Z', 'LKnee_X', 'LKnee_Y', 'LKnee_Z', 'LAnkle_X', 'LAnkle_Y', 'LAnkle_Z', 'LBigToe_X', 'LBigToe_Y', 'LBigToe_Z', 'LSmallToe_X', 'LSmallToe_Y', 'LSmallToe_Z', 'LHeel_X', 'LHeel_Y', 'LHeel_Z', 'Neck_X', 'Neck_Y', 'Neck_Z', 'Head_X', 'Head_Y', 'Head_Z', 'Nose_X', 'Nose_Y', 'Nose_Z', 'RShoulder_X', 'RShoulder_Y', 'RShoulder_Z', 'RElbow_X', 'RElbow_Y', 'RElbow_Z', 'RWrist_X', 'RWrist_Y', 'RWrist_Z', 'LShoulder_X', 'LShoulder_Y', 'LShoulder_Z', 'LElbow_X', 'LElbow_Y', 'LElbow_Z', 'LWrist_X', 'LWrist_Y', 'LWrist_Z', 'participant_id', 'video_number', 'condition', 'person_tracked', 'right_knee', 'left_knee', 'left_ankle', 'right_ankle', 'left_hip', 'right_shoulder', 'left_shoulder', 'right_elbow', 'left_elbow', 'right_foot', 'left_foot', 'right_shank', 'left_shank', 'right_thigh', 'left_thigh', 'pelvis', 'trunk', 'shoulders', 'head', 'right_arm', 'left_arm', 'right_forearm', 'left_forearm']\n",
      "Unique participants: 2\n",
      "Unique video numbers: 3\n",
      "Unique conditions: 3\n"
     ]
    }
   ],
   "source": [
    "# join trc and mot\n",
    "# Ensure consistent column naming\n",
    "backflip_trc_combined_df = backflip_trc_combined_df.rename(columns={\"Time\": \"time\"})\n",
    "\n",
    "# Perform the merge\n",
    "merged_df = pd.merge(\n",
    "    backflip_trc_combined_df,\n",
    "    backflip_mot_combined_df,\n",
    "    on=[\"time\", \"participant_id\", \"video_number\", \"condition\", \"person_tracked\"],\n",
    "    how=\"inner\"  # Only include rows with matching keys\n",
    ")\n",
    "\n",
    "# Optional: Drop redundant columns from `mot` DataFrame\n",
    "merged_df = merged_df.drop(columns=[\"version\", \"nRows\", \"nColumns\", \"inDegrees\"], errors=\"ignore\")\n",
    "\n",
    "# Check the results\n",
    "print(f\"Shape of merged DataFrame: {merged_df.shape}\")\n",
    "print(f\"Columns in merged DataFrame: {merged_df.columns.tolist()}\")\n",
    "print(f\"Unique participants: {merged_df['participant_id'].nunique()}\")\n",
    "print(f\"Unique video numbers: {merged_df['video_number'].nunique()}\")\n",
    "print(f\"Unique conditions: {merged_df['condition'].nunique()}\")"
   ]
  },
  {
   "cell_type": "markdown",
   "metadata": {},
   "source": [
    "## Scoring the backflips"
   ]
  },
  {
   "cell_type": "code",
   "execution_count": null,
   "metadata": {},
   "outputs": [],
   "source": []
  }
 ],
 "metadata": {
  "kernelspec": {
   "display_name": "GymSports2D",
   "language": "python",
   "name": "python3"
  },
  "language_info": {
   "codemirror_mode": {
    "name": "ipython",
    "version": 3
   },
   "file_extension": ".py",
   "mimetype": "text/x-python",
   "name": "python",
   "nbconvert_exporter": "python",
   "pygments_lexer": "ipython3",
   "version": "3.11.10"
  }
 },
 "nbformat": 4,
 "nbformat_minor": 2
}
