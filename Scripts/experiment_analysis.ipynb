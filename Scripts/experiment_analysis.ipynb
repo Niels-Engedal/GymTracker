{
 "cells": [
  {
   "cell_type": "markdown",
   "metadata": {},
   "source": [
    "# Augmented Video Feedback's effect on Self-confidence and Actual Standing Backward Salto Tucked Performance\n",
    "#### Authors: Mikkel Glavind Andersen & Niels Engedal\n",
    "#### Date: Hand in 06/01/2025\n",
    "\n",
    "# ---------------------------------------------------"
   ]
  },
  {
   "cell_type": "markdown",
   "metadata": {},
   "source": [
    "## Importing Libraries and Modules"
   ]
  },
  {
   "cell_type": "code",
   "execution_count": 2,
   "metadata": {},
   "outputs": [],
   "source": [
    "import pandas as pd\n",
    "import numpy as np\n",
    "import matplotlib.pyplot as plt\n",
    "import seaborn as sns\n",
    "\n",
    "import os"
   ]
  },
  {
   "cell_type": "markdown",
   "metadata": {},
   "source": [
    "## Importing Data"
   ]
  },
  {
   "cell_type": "markdown",
   "metadata": {},
   "source": [
    "### Setting up filepaths"
   ]
  },
  {
   "cell_type": "code",
   "execution_count": 7,
   "metadata": {},
   "outputs": [
    {
     "name": "stdout",
     "output_type": "stream",
     "text": [
      "['id1_1_baseline.csv', 'id5_8_trajectory.csv', 'id1_9_trajectory.csv', 'id20_2_trajectory.csv', 'id1_1_trajectory.csv', 'id9_1_baseline.csv', 'id4_3_trajectory.csv', 'id15_2_trajectory.csv', 'id6_1_baseline.csv', 'id4_4_trajectory.csv', 'id5_7_trajectory.csv', 'id1_6_trajectory.csv', 'id2000_2_trajectory.csv', 'id2001_1_trajectory.csv', 'id20_1_baseline.csv', 'id1_7_trajectory.csv', 'id5_6_trajectory.csv', 'id2002_2_baseline.csv', 'id11_2_trajectory.csv', 'id7_1_baseline.csv', 'id4_2_trajectory.csv', 'id8_1_baseline.csv', 'id5_1_trajectory.csv', 'id1_8_trajectory.csv', 'id2001_3_baseline.csv', 'id1_2_trajectory.csv', 'id2_1_baseline.csv', 'id2001_2_trajectory.csv', 'id1_5_trajectory.csv', 'id5_4_trajectory.csv', 'id5_1_baseline.csv', 'id10_2_trajectory.csv', 'id2001_2_baseline.csv', 'id5_5_trajectory.csv', 'id1_4_trajectory.csv', 'id4_1_trajectory.csv', 'id1_3_trajectory.csv', 'id5_2_trajectory.csv', 'id2002_2_trajectory.csv', 'id9_2_trajectory.csv', 'id10_1_baseline.csv', 'id16_1_trajectory.csv', 'id3_1_trajectory.csv', 'id2_2_trajectory.csv', 'id2000_1_baseline.csv', 'id19_1_trajectory.csv', 'id2001_1_baseline.csv', 'id2_3_trajectory.csv', 'id6_2_trajectory.csv', 'id13_2_trajectory.csv', 'id11_1_baseline.csv', 'id13_1_baseline.csv', 'id17_1_trajectory.csv', 'id19_4_trajectory.csv', 'id8_2_trajectory.csv', 'id2002_1_trajectory.csv', 'id19_3_trajectory.csv', 'id3_2_trajectory.csv', 'id2_1_trajectory.csv', 'id7_2_trajectory.csv', 'id15_1_baseline.csv', 'id2002_1_baseline.csv', 'id18_1_trajectory.csv', 'id19_2_trajectory.csv', 'id12_2_trajectory.csv', 'id12_1_baseline.csv', 'id19_5_trajectory.csv']\n"
     ]
    }
   ],
   "source": [
    "data_dir = \"/Users/niels/Desktop/University/Third Semester/Perception and Action/Exam/Gymnastics Motion Tracking/Code for Gym Tracking/Videos to Analyze/Test_Træning_5-12-24/Data fra Træning\"\n",
    "data_files = os.listdir(data_dir)\n",
    "csv_files = [f for f in data_files if f.endswith('.csv')]\n",
    "print(csv_files)"
   ]
  },
  {
   "cell_type": "markdown",
   "metadata": {},
   "source": [
    "### Loading CSV-files and combining them, both per participant and as a whole"
   ]
  },
  {
   "cell_type": "code",
   "execution_count": 14,
   "metadata": {},
   "outputs": [],
   "source": [
    "# read all csv files into a list of dataframes\n",
    "dfs = [pd.read_csv(os.path.join(data_dir, f)) for f in csv_files]\n",
    "\n",
    "full_df = pd.concat(dfs, ignore_index=True)"
   ]
  },
  {
   "cell_type": "code",
   "execution_count": 18,
   "metadata": {},
   "outputs": [
    {
     "name": "stdout",
     "output_type": "stream",
     "text": [
      "Unique participants in full_df: 22\n",
      "Shape of full_df: (9125, 148)\n"
     ]
    }
   ],
   "source": [
    "print(f\"Unique participants in full_df: {full_df['participant_id'].nunique()}\")\n",
    "\n",
    "print(f\"Shape of full_df: {np.shape(full_df)}\")"
   ]
  }
 ],
 "metadata": {
  "kernelspec": {
   "display_name": "GymSports2D",
   "language": "python",
   "name": "python3"
  },
  "language_info": {
   "codemirror_mode": {
    "name": "ipython",
    "version": 3
   },
   "file_extension": ".py",
   "mimetype": "text/x-python",
   "name": "python",
   "nbconvert_exporter": "python",
   "pygments_lexer": "ipython3",
   "version": "3.11.10"
  }
 },
 "nbformat": 4,
 "nbformat_minor": 2
}
