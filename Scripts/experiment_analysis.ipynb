{
 "cells": [
  {
   "cell_type": "markdown",
   "metadata": {},
   "source": [
    "# Augmented Video Feedback's effect on Self-confidence and Actual Standing Backward Salto Tucked Performance\n",
    "#### Authors: Mikkel Glavind Andersen & Niels Engedal\n",
    "#### Date: Hand in 06/01/2025\n",
    "\n",
    "# ---------------------------------------------------"
   ]
  },
  {
   "cell_type": "markdown",
   "metadata": {},
   "source": [
    "## Importing Libraries and Modules"
   ]
  },
  {
   "cell_type": "code",
   "execution_count": 1,
   "metadata": {},
   "outputs": [],
   "source": [
    "import pandas as pd\n",
    "import numpy as np\n",
    "import matplotlib.pyplot as plt\n",
    "import seaborn as sns\n",
    "\n",
    "import os"
   ]
  },
  {
   "cell_type": "markdown",
   "metadata": {},
   "source": [
    "## Importing Data"
   ]
  },
  {
   "cell_type": "markdown",
   "metadata": {},
   "source": [
    "### Setting up filepaths"
   ]
  },
  {
   "cell_type": "code",
   "execution_count": 2,
   "metadata": {},
   "outputs": [
    {
     "name": "stdout",
     "output_type": "stream",
     "text": [
      "['id1_1_baseline.csv', 'id1_1_trajectory.csv', 'id6_1_baseline.csv', 'id7_1_baseline.csv', 'id8_1_baseline.csv', 'id5_1_trajectory.csv', 'id8_2_pure.csv', 'id8_3_pure.csv', 'id4_1_pure.csv', 'id2_4_pure.csv', 'id2_5_pure.csv', 'id5_3_trajectory.csv', 'id1_2_trajectory.csv', 'id2_1_baseline.csv', 'id1_5_trajectory.csv', 'id8_5_pure.csv', 'id8_4_pure.csv', 'id5_4_trajectory.csv', 'id5_1_baseline.csv', 'id2_3_pure.csv', 'id2_2_pure.csv', 'id4_1_baseline.csv', 'id5_5_trajectory.csv', 'id1_4_trajectory.csv', 'id3_1_baseline.csv', 'id1_3_trajectory.csv', 'id5_2_trajectory.csv', 'id6_1_pure.csv', 'id2_2_baseline.csv', 'id8_1_pure.csv', 'id4_4_baseline.csv', 'id4_3_pure.csv', 'id4_2_pure.csv', 'id2_5_baseline.csv', 'id4_3_baseline.csv', 'id3_3_baseline.csv', 'id3_1_trajectory.csv', 'id5_5_baseline.csv', 'id3_4_baseline.csv', 'id5_2_baseline.csv', 'id6_5_pure.csv', 'id4_2_baseline.csv', 'id6_4_pure.csv', 'id2_4_baseline.csv', 'id4_5_baseline.csv', 'id7_1_trajectory.csv', 'id2_3_baseline.csv', 'id5_3_baseline.csv', 'id3_5_baseline.csv', 'id5_4_baseline.csv', 'id3_2_baseline.csv', 'id1_2_baseline.csv', 'id7_4_baseline.csv', 'id1_5_baseline.csv', 'id7_4_trajectory.csv', 'id7_3_baseline.csv', 'id3_5_trajectory.csv', 'id6_2_pure.csv', 'id6_3_pure.csv', 'id8_4_baseline.csv', 'id8_3_baseline.csv', 'id3_2_trajectory.csv', 'id7_3_trajectory.csv', 'id6_5_baseline.csv', 'id6_2_baseline.csv', 'id7_2_baseline.csv', 'id1_4_baseline.csv', 'id7_5_baseline.csv', 'id1_3_baseline.csv', 'id7_2_trajectory.csv', 'id3_3_trajectory.csv', 'id4_4_pure.csv', 'id4_5_pure.csv', 'id2_1_pure.csv', 'id3_4_trajectory.csv', 'id7_5_trajectory.csv', 'id6_3_baseline.csv', 'id6_4_baseline.csv', 'id8_2_baseline.csv', 'id8_5_baseline.csv']\n"
     ]
    }
   ],
   "source": [
    "data_dir = \"/Users/niels/Desktop/University/Third Semester/Perception and Action/Exam/Gymnastics Motion Tracking/Code for Gym Tracking/Analyzed Data/Webcam_Backflip\"\n",
    "data_files = os.listdir(data_dir)\n",
    "csv_files = [f for f in data_files if f.endswith('.csv')]\n",
    "print(csv_files)"
   ]
  },
  {
   "cell_type": "markdown",
   "metadata": {},
   "source": [
    "### Loading CSV-files and combining them, both per participant and as a whole"
   ]
  },
  {
   "cell_type": "code",
   "execution_count": 3,
   "metadata": {},
   "outputs": [],
   "source": [
    "# read all csv files into a list of dataframes\n",
    "dfs = [pd.read_csv(os.path.join(data_dir, f)) for f in csv_files]\n",
    "\n",
    "full_df = pd.concat(dfs, ignore_index=True)"
   ]
  },
  {
   "cell_type": "code",
   "execution_count": 11,
   "metadata": {},
   "outputs": [
    {
     "name": "stdout",
     "output_type": "stream",
     "text": [
      "Unique participants in full_df: 8\n",
      "Len of full df: 80\n",
      "Shape of full_df: (14315, 149)\n"
     ]
    }
   ],
   "source": [
    "print(f\"Unique participants in full_df: {full_df['participant_id'].nunique()}\")\n",
    "\n",
    "print(f\"Len of dfs: {len(dfs)}\")\n",
    "\n",
    "print(f\"Shape of full_df: {np.shape(full_df)}\")"
   ]
  },
  {
   "cell_type": "code",
   "execution_count": 5,
   "metadata": {},
   "outputs": [
    {
     "name": "stdout",
     "output_type": "stream",
     "text": [
      "Index(['Frame#', 'time', 'Hip_X', 'Hip_Y', 'RHip_X', 'RHip_Y', 'RKnee_X',\n",
      "       'RKnee_Y', 'RAnkle_X', 'RAnkle_Y',\n",
      "       ...\n",
      "       'LKnee_velocity', 'right_knee_ang_vel', 'left_knee_ang_vel',\n",
      "       'left_ankle_ang_vel', 'right_ankle_ang_vel', 'left_hip_ang_vel',\n",
      "       'right_hip_ang_vel', 'Trunk_Leg_Angle', 'Thigh_Leg_Angle',\n",
      "       'Likert_Score'],\n",
      "      dtype='object', length=149)\n",
      "\n",
      "['left_hip', 'right_hip', 'left_hip_ang_vel', 'right_hip_ang_vel']\n"
     ]
    }
   ],
   "source": [
    "# find all column names\n",
    "print(full_df.columns)\n",
    "\n",
    "# find all hip columns\n",
    "hip_columns = [c for c in full_df.columns if 'hip' in c]\n",
    "print()\n",
    "print(hip_columns)"
   ]
  }
 ],
 "metadata": {
  "kernelspec": {
   "display_name": "GymSports2D",
   "language": "python",
   "name": "python3"
  },
  "language_info": {
   "codemirror_mode": {
    "name": "ipython",
    "version": 3
   },
   "file_extension": ".py",
   "mimetype": "text/x-python",
   "name": "python",
   "nbconvert_exporter": "python",
   "pygments_lexer": "ipython3",
   "version": "3.11.10"
  }
 },
 "nbformat": 4,
 "nbformat_minor": 2
}
