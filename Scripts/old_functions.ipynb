{
 "cells": [
  {
   "cell_type": "markdown",
   "metadata": {},
   "source": [
    "Standardizing data attempt"
   ]
  },
  {
   "cell_type": "code",
   "execution_count": null,
   "metadata": {},
   "outputs": [],
   "source": [
    "# This is an attempt that shouldn't really be looked into, because it is about the coordinates and we're working with angles solely now.\n",
    "def standardize_trc_data(df, hip_prefix='Hip', shoulder_prefix='Shoulder'):\n",
    "    \"\"\"\n",
    "    Standardizes the .trc motion capture data by normalizing with the average distance between\n",
    "    hips and shoulders (left and right).\n",
    "    \n",
    "    Parameters:\n",
    "    df (pd.DataFrame): A DataFrame containing motion capture data with relevant columns and 'participant_id'.\n",
    "    hip_prefix (str): The prefix for hip columns (e.g., 'LHip' or 'RHip').\n",
    "    shoulder_prefix (str): The prefix for shoulder columns (e.g., 'LShoulder' or 'RShoulder').\n",
    "    \n",
    "    Returns:\n",
    "    pd.DataFrame: A DataFrame with standardized coordinate data.\n",
    "    \"\"\"\n",
    "    standardized_df = df.copy()\n",
    "    \n",
    "    # Calculate the body scale for each row in the DataFrame\n",
    "    left_hip_shoulder_dist = np.sqrt(\n",
    "        (df[f'L{hip_prefix}_X'] - df[f'L{shoulder_prefix}_X'])**2 + \n",
    "        (df[f'L{hip_prefix}_Y'] - df[f'L{shoulder_prefix}_Y'])**2\n",
    "    )\n",
    "    \n",
    "    right_hip_shoulder_dist = np.sqrt(\n",
    "        (df[f'R{hip_prefix}_X'] - df[f'R{shoulder_prefix}_X'])**2 + \n",
    "        (df[f'R{hip_prefix}_Y'] - df[f'R{shoulder_prefix}_Y'])**2\n",
    "    )\n",
    "    \n",
    "    body_scale = (left_hip_shoulder_dist + right_hip_shoulder_dist) / 2\n",
    "    \n",
    "    # Normalize the coordinate columns\n",
    "    coordinate_columns = [col for col in df.columns if col.endswith(('_X', '_Y'))]\n",
    "    for col in coordinate_columns:\n",
    "        standardized_df[col] = df[col] / body_scale\n",
    "    \n",
    "    return standardized_df"
   ]
  },
  {
   "cell_type": "code",
   "execution_count": null,
   "metadata": {},
   "outputs": [],
   "source": [
    "# example usage of standardize_trc_data function\n",
    "trc_standardized_df = standardize_trc_data(trc_combined_df)\n",
    "trc_standardized_df.head()"
   ]
  },
  {
   "cell_type": "markdown",
   "metadata": {},
   "source": []
  },
  {
   "cell_type": "code",
   "execution_count": null,
   "metadata": {},
   "outputs": [],
   "source": [
    "# old list filepaths that can only take 1 extension\n",
    "def list_filepaths(directory, extension):\n",
    "    \"\"\"\n",
    "    Lists all *extension* files in the specified directory and its subdirectories.\n",
    "    \n",
    "    Parameters:\n",
    "    directory (str): The path to the directory.\n",
    "    extension (str): The file extension to look for.\n",
    "    \n",
    "    Returns:\n",
    "    list: A list of file paths to *extension* files in the directory and subdirectories.\n",
    "    \"\"\"\n",
    "    files = []\n",
    "    for root, _, filenames in os.walk(directory):\n",
    "        for file in filenames:\n",
    "            if file.endswith(str(extension)):\n",
    "                files.append(os.path.join(root, file))\n",
    "    return files"
   ]
  }
 ],
 "metadata": {
  "kernelspec": {
   "display_name": "GymSports2D",
   "language": "python",
   "name": "python3"
  },
  "language_info": {
   "name": "python",
   "version": "3.11.10"
  }
 },
 "nbformat": 4,
 "nbformat_minor": 2
}
