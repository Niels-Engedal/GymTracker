{
 "cells": [
  {
   "cell_type": "markdown",
   "metadata": {},
   "source": [
    "Standardizing data attempt"
   ]
  },
  {
   "cell_type": "code",
   "execution_count": null,
   "metadata": {},
   "outputs": [],
   "source": [
    "# This is an attempt that shouldn't really be looked into, because it is about the coordinates and we're working with angles solely now.\n",
    "def standardize_trc_data(df, hip_prefix='Hip', shoulder_prefix='Shoulder'):\n",
    "    \"\"\"\n",
    "    Standardizes the .trc motion capture data by normalizing with the average distance between\n",
    "    hips and shoulders (left and right).\n",
    "    \n",
    "    Parameters:\n",
    "    df (pd.DataFrame): A DataFrame containing motion capture data with relevant columns and 'participant_id'.\n",
    "    hip_prefix (str): The prefix for hip columns (e.g., 'LHip' or 'RHip').\n",
    "    shoulder_prefix (str): The prefix for shoulder columns (e.g., 'LShoulder' or 'RShoulder').\n",
    "    \n",
    "    Returns:\n",
    "    pd.DataFrame: A DataFrame with standardized coordinate data.\n",
    "    \"\"\"\n",
    "    standardized_df = df.copy()\n",
    "    \n",
    "    # Calculate the body scale for each row in the DataFrame\n",
    "    left_hip_shoulder_dist = np.sqrt(\n",
    "        (df[f'L{hip_prefix}_X'] - df[f'L{shoulder_prefix}_X'])**2 + \n",
    "        (df[f'L{hip_prefix}_Y'] - df[f'L{shoulder_prefix}_Y'])**2\n",
    "    )\n",
    "    \n",
    "    right_hip_shoulder_dist = np.sqrt(\n",
    "        (df[f'R{hip_prefix}_X'] - df[f'R{shoulder_prefix}_X'])**2 + \n",
    "        (df[f'R{hip_prefix}_Y'] - df[f'R{shoulder_prefix}_Y'])**2\n",
    "    )\n",
    "    \n",
    "    body_scale = (left_hip_shoulder_dist + right_hip_shoulder_dist) / 2\n",
    "    \n",
    "    # Normalize the coordinate columns\n",
    "    coordinate_columns = [col for col in df.columns if col.endswith(('_X', '_Y'))]\n",
    "    for col in coordinate_columns:\n",
    "        standardized_df[col] = df[col] / body_scale\n",
    "    \n",
    "    return standardized_df"
   ]
  },
  {
   "cell_type": "code",
   "execution_count": null,
   "metadata": {},
   "outputs": [],
   "source": [
    "# example usage of standardize_trc_data function\n",
    "trc_standardized_df = standardize_trc_data(trc_combined_df)\n",
    "trc_standardized_df.head()"
   ]
  }
 ],
 "metadata": {
  "kernelspec": {
   "display_name": "GymSports2D",
   "language": "python",
   "name": "python3"
  },
  "language_info": {
   "name": "python",
   "version": "3.11.10"
  }
 },
 "nbformat": 4,
 "nbformat_minor": 2
}
